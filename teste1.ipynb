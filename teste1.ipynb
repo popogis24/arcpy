{
 "cells": [
  {
   "cell_type": "code",
   "execution_count": 14,
   "metadata": {},
   "outputs": [
    {
     "name": "stdout",
     "output_type": "stream",
     "text": [
      "X= 123912931,0123 Y=123123,3218 Sys= Sistema Azul\n"
     ]
    }
   ],
   "source": [
    "class FormatCoordinates:\n",
    "    def __init__(self, x, y, coordinate_sys):\n",
    "        self.x = x\n",
    "        self.y = y\n",
    "        self.coordinate_sys = coordinate_sys\n",
    "\n",
    "    def format(self):\n",
    "        self.x = str(self.x).replace('.', ',')\n",
    "        self.y = str(self.y).replace('.', ',')\n",
    "        self.coordinate_sys = self.make_title()\n",
    "        return self.x, self.y, self.coordinate_sys\n",
    "    \n",
    "    def __str__(self):\n",
    "        #retorna uma string formatada\n",
    "        return f'X= {self.format()[0]} Y={self.format()[1]} Sys= {self.format()[2]}'\n",
    "    \n",
    "    def make_title(self):\n",
    "        self.coordinate_sys = self.coordinate_sys.title()\n",
    "        return self.coordinate_sys\n",
    "\n",
    "def main():\n",
    "    x = (input('x: '))\n",
    "    y = (input('y: '))\n",
    "    coordinate_sys = input('coordinate system: ')\n",
    "    coordinates = FormatCoordinates(x, y, coordinate_sys)\n",
    "    print(coordinates)\n",
    "\n",
    "if __name__ == '__main__':\n",
    "    main()"
   ]
  }
 ],
 "metadata": {
  "kernelspec": {
   "display_name": "Python 3",
   "language": "python",
   "name": "python3"
  },
  "language_info": {
   "codemirror_mode": {
    "name": "ipython",
    "version": 3
   },
   "file_extension": ".py",
   "mimetype": "text/x-python",
   "name": "python",
   "nbconvert_exporter": "python",
   "pygments_lexer": "ipython3",
   "version": "3.9.6"
  }
 },
 "nbformat": 4,
 "nbformat_minor": 2
}
